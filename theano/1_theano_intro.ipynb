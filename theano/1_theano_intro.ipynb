{
 "cells": [
  {
   "cell_type": "markdown",
   "metadata": {},
   "source": [
    "Slightly modified version of [this theano tutorial](http://www.marekrei.com/blog/theano-tutorial/)."
   ]
  },
  {
   "cell_type": "markdown",
   "metadata": {
    "deletable": true,
    "editable": true
   },
   "source": [
    "## Linear regression with Python"
   ]
  },
  {
   "cell_type": "markdown",
   "metadata": {
    "deletable": true,
    "editable": true
   },
   "source": [
    "## Theano \n",
    "\n",
    "Theano is a powerful library dedicated to work with computational graph with many libraries built on top of it. It is also a low level core for our library for probabilistic modeling."
   ]
  },
  {
   "cell_type": "markdown",
   "metadata": {
    "deletable": true,
    "editable": true
   },
   "source": [
    "### How to install Theano\n",
    "To install Theano for Ubuntu 14.04 (or other unix-like machine) use the following code:\n",
    "```bash\n",
    "sudo apt-get install python-numpy python-scipy python-dev python-pip python-nose g++ libopenblas-dev git\n",
    "sudo pip install Theano\n",
    "```"
   ]
  },
  {
   "cell_type": "code",
   "execution_count": null,
   "metadata": {
    "collapsed": false,
    "deletable": true,
    "editable": true
   },
   "outputs": [],
   "source": [
    "import theano\n",
    "import theano.tensor as T"
   ]
  },
  {
   "cell_type": "code",
   "execution_count": null,
   "metadata": {
    "collapsed": false,
    "deletable": true,
    "editable": true
   },
   "outputs": [],
   "source": [
    "# symbolic variable, 32 bit float\n",
    "x = theano.tensor.fvector('x') # dtype=float32\n",
    "# shared variable with specified value\n",
    "W = theano.shared(np.asarray([0.4, 0.7]), 'W')\n",
    "# another variable\n",
    "y = (x * W).sum()\n",
    "\n",
    "# function f takes x as input and produces y as output\n",
    "f = theano.function([x], y)\n",
    "\n",
    "# run the function for an example input\n",
    "output = f([1.0, 2.0])\n",
    "# 0.4 * 1.0 + 0.7 * 2.0 = 1.8\n",
    "print(output)"
   ]
  },
  {
   "cell_type": "code",
   "execution_count": null,
   "metadata": {
    "collapsed": false,
    "deletable": true,
    "editable": true
   },
   "outputs": [],
   "source": [
    "# Shared variables\n",
    "W.get_value()"
   ]
  },
  {
   "cell_type": "code",
   "execution_count": null,
   "metadata": {
    "collapsed": true,
    "deletable": true,
    "editable": true
   },
   "outputs": [],
   "source": [
    "W.set_value([0.1, 0.8])"
   ]
  },
  {
   "cell_type": "code",
   "execution_count": null,
   "metadata": {
    "collapsed": false
   },
   "outputs": [],
   "source": [
    "W.get_value()"
   ]
  },
  {
   "cell_type": "markdown",
   "metadata": {
    "deletable": true,
    "editable": true
   },
   "source": [
    "## Minimal training example with optimization"
   ]
  },
  {
   "cell_type": "code",
   "execution_count": null,
   "metadata": {
    "collapsed": true,
    "deletable": true,
    "editable": true
   },
   "outputs": [],
   "source": [
    "x = theano.tensor.fvector('x')\n",
    "target = theano.tensor.fscalar('target')"
   ]
  },
  {
   "cell_type": "code",
   "execution_count": null,
   "metadata": {
    "collapsed": true,
    "deletable": true,
    "editable": true
   },
   "outputs": [],
   "source": [
    "W = theano.shared(np.asarray([0.2, 0.7]), 'W')\n",
    "y = (x * W).sum()"
   ]
  },
  {
   "cell_type": "code",
   "execution_count": null,
   "metadata": {
    "collapsed": true,
    "deletable": true,
    "editable": true
   },
   "outputs": [],
   "source": [
    "cost = theano.tensor.sqr(target - y)\n",
    "gradients = theano.tensor.grad(cost, [W])\n",
    "W_updated = W - (0.1 * gradients[0])\n",
    "updates = [(W, W_updated)]\n",
    " "
   ]
  },
  {
   "cell_type": "code",
   "execution_count": null,
   "metadata": {
    "collapsed": false,
    "deletable": true,
    "editable": true
   },
   "outputs": [],
   "source": [
    "sample_function = theano.function([x, target], y, updates=updates)"
   ]
  },
  {
   "cell_type": "code",
   "execution_count": null,
   "metadata": {
    "collapsed": false,
    "deletable": true,
    "editable": true
   },
   "outputs": [],
   "source": [
    "step_number = 20\n",
    "w_values = np.zeros((step_number, 2))\n",
    "output_values = np.zeros((step_number, 1))\n",
    "\n",
    "for index in range(step_number):\n",
    "    output = sample_function([1.0, 1.0], 20.0)\n",
    "    w_values[index, :] = W.get_value()\n",
    "    output_values[index] = output\n",
    "    print(W.get_value())\n",
    "    print(output)"
   ]
  },
  {
   "cell_type": "code",
   "execution_count": null,
   "metadata": {
    "collapsed": false,
    "deletable": true,
    "editable": true
   },
   "outputs": [],
   "source": [
    "fig = plt.figure()\n",
    "plt.plot(w_values[:, 0], w_values[:, 1], '-o')\n",
    "plt.xlabel('x1')\n",
    "plt.ylabel('x2')"
   ]
  },
  {
   "cell_type": "markdown",
   "metadata": {
    "deletable": true,
    "editable": true
   },
   "source": [
    "## Logistic regression with Theano"
   ]
  },
  {
   "cell_type": "markdown",
   "metadata": {
    "deletable": true,
    "editable": true
   },
   "source": [
    "Sample $D = \\{(x_i, y_i)\\}_{i = 1}^n$.\n",
    "Suppose, that $p(y|x, w) = C(x^T w)$.\n",
    "\n",
    "Denote $t_i =C(x_i^T w)$.\n",
    "Then the likelihood is the following:\n",
    "$$\n",
    "p(D | w) = \\prod_{i = 1}^n y_i^{t_i} (1- y_i)^{1 - t_i}.\n",
    "$$\n",
    "And the loglikelihood is:\n",
    "$$\n",
    "\\log p(D | w) = \\sum_{i = 1}^n \\log(y_i) t_i + \\log(1- y_i) * (1 - t_i).\n",
    "$$\n",
    "There is no analytical solution, but for most popular $C()$ functions the problem is convex and \n",
    "can be solved with common gradient-based numerical optimization approaches."
   ]
  },
  {
   "cell_type": "code",
   "execution_count": null,
   "metadata": {
    "collapsed": true,
    "deletable": true,
    "editable": true
   },
   "outputs": [],
   "source": [
    "random_number_generator = np.random\n",
    "\n",
    "training_sample_size = 100\n",
    "input_variable_number = 20"
   ]
  },
  {
   "cell_type": "code",
   "execution_count": null,
   "metadata": {
    "collapsed": true,
    "deletable": true,
    "editable": true
   },
   "outputs": [],
   "source": [
    "# Generate a training sample\n",
    "sample = (random_number_generator.randn(training_sample_size, input_variable_number), \n",
    "          random_number_generator.randint(size=training_sample_size, low=0, high=2))\n",
    "training_steps_number = 500"
   ]
  },
  {
   "cell_type": "code",
   "execution_count": null,
   "metadata": {
    "collapsed": true,
    "deletable": true,
    "editable": true
   },
   "outputs": [],
   "source": [
    "# Declare Theano symbolic variables\n",
    "points = T.dmatrix(\"points\")\n",
    "values = T.dvector(\"values\")"
   ]
  },
  {
   "cell_type": "code",
   "execution_count": null,
   "metadata": {
    "collapsed": true,
    "deletable": true,
    "editable": true
   },
   "outputs": [],
   "source": [
    "# Initialize weights and the following bias variable b\n",
    "# are shared so they keep their values\n",
    "# between training iterations (updates)\n",
    "\n",
    "# Initialize the weight vector randomly\n",
    "weights = theano.shared(random_number_generator.randn(input_variable_number), name=\"weights\")"
   ]
  },
  {
   "cell_type": "code",
   "execution_count": null,
   "metadata": {
    "collapsed": true,
    "deletable": true,
    "editable": true
   },
   "outputs": [],
   "source": [
    "# Initialize the bias term\n",
    "bias = theano.shared(0., name=\"bias\")"
   ]
  },
  {
   "cell_type": "code",
   "execution_count": null,
   "metadata": {
    "collapsed": false,
    "deletable": true,
    "editable": true
   },
   "outputs": [],
   "source": [
    "print(\"Initial model:\")\n",
    "print(weights.get_value())\n",
    "print(bias.get_value())"
   ]
  },
  {
   "cell_type": "code",
   "execution_count": null,
   "metadata": {
    "collapsed": true,
    "deletable": true,
    "editable": true
   },
   "outputs": [],
   "source": [
    "# Construct Theano expression graph\n",
    "values_probability = 1 / (1 + T.exp(-T.dot(points, weights) - bias))   # Probability that target = 1\n",
    "\n",
    "prediction = values_probability > 0.5                    # The prediction thresholded\n",
    "\n",
    "cross_entropy = -(values * T.log(values_probability) +\n",
    "                  (1 - values) * T.log(1 - values_probability)) # Cross-entropy loss function\n",
    "\n",
    "cost = cross_entropy.mean() + 0.01 * (weights ** 2).sum()# The cost to minimize"
   ]
  },
  {
   "cell_type": "code",
   "execution_count": null,
   "metadata": {
    "collapsed": true,
    "deletable": true,
    "editable": true
   },
   "outputs": [],
   "source": [
    "# Compute the gradient of the cost\n",
    "# w.r.t the weight vector and the bias term\n",
    "gradient_weights, gradient_bias = T.grad(cost, [weights, bias])"
   ]
  },
  {
   "cell_type": "code",
   "execution_count": null,
   "metadata": {
    "collapsed": true,
    "deletable": true,
    "editable": true
   },
   "outputs": [],
   "source": [
    "# Compile\n",
    "train_model = theano.function(\n",
    "                inputs=[points, values],\n",
    "                outputs=[prediction, cross_entropy],\n",
    "                updates=((weights, weights - 0.1 * gradient_weights), \n",
    "                         (bias, bias - 0.1 * gradient_bias)))"
   ]
  },
  {
   "cell_type": "code",
   "execution_count": null,
   "metadata": {
    "collapsed": true,
    "deletable": true,
    "editable": true
   },
   "outputs": [],
   "source": [
    "predict_values = theano.function(inputs=[points], outputs=prediction)"
   ]
  },
  {
   "cell_type": "code",
   "execution_count": null,
   "metadata": {
    "collapsed": false,
    "deletable": true,
    "editable": true
   },
   "outputs": [],
   "source": [
    "training_steps_number"
   ]
  },
  {
   "cell_type": "code",
   "execution_count": null,
   "metadata": {
    "collapsed": false,
    "deletable": true,
    "editable": true
   },
   "outputs": [],
   "source": [
    "# Train model\n",
    "step_error_array = np.zeros((training_steps_number, 1))\n",
    "for index in range(training_steps_number):\n",
    "    step_prediction, step_error = train_model(sample[0], sample[1])\n",
    "    step_error_array[index] = np.sum(step_error)"
   ]
  },
  {
   "cell_type": "code",
   "execution_count": null,
   "metadata": {
    "collapsed": false,
    "deletable": true,
    "editable": true
   },
   "outputs": [],
   "source": [
    "# Print results\n",
    "print(\"Final model:\")\n",
    "print(weights.get_value())\n",
    "print(bias.get_value())\n",
    "print(\"target values for sample:\")\n",
    "print(sample[1])\n",
    "print(\"prediction on sample:\")\n",
    "print(predict_values(sample[0]))"
   ]
  },
  {
   "cell_type": "code",
   "execution_count": null,
   "metadata": {
    "collapsed": false,
    "deletable": true,
    "editable": true
   },
   "outputs": [],
   "source": [
    "fig = plt.figure()\n",
    "plt.plot(step_error_array)\n",
    "plt.xlabel('Step number')\n",
    "plt.ylabel('Cross entropy')"
   ]
  },
  {
   "cell_type": "code",
   "execution_count": null,
   "metadata": {
    "collapsed": true,
    "deletable": true,
    "editable": true
   },
   "outputs": [],
   "source": [
    "# Homework\n",
    "# 1. Select regularization parameter using cross validation\n",
    "# 2. Replace logistic (logit) regression with probit regression\n",
    "# 3. Compare performace of logit and probit regression for classification datasets available in sklearn:\n",
    "#    estimate quality and std using cross-validation\n"
   ]
  }
 ],
 "metadata": {
  "kernelspec": {
   "display_name": "Python 3",
   "language": "python",
   "name": "python3"
  },
  "language_info": {
   "codemirror_mode": {
    "name": "ipython",
    "version": 3
   },
   "file_extension": ".py",
   "mimetype": "text/x-python",
   "name": "python",
   "nbconvert_exporter": "python",
   "pygments_lexer": "ipython3",
   "version": "3.6.0"
  }
 },
 "nbformat": 4,
 "nbformat_minor": 0
}
